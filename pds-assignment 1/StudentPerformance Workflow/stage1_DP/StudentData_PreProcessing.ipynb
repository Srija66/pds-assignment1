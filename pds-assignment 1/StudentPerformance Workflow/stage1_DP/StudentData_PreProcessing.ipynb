{
 "cells": [
  {
   "cell_type": "code",
   "execution_count": 1,
   "id": "6d601b3c",
   "metadata": {},
   "outputs": [],
   "source": [
    "import pandas as pd\n",
    "\n",
    "data = pd.read_csv(r\"C:\\Users\\MANOJ\\OneDrive\\Documents\\pds-assignment 1\\StudentPerformance Workflow\\stage1_DP\\StudentsPerformance.csv\")\n",
    "\n",
    "processed_data = data.drop_duplicates()\n",
    "# Calculating average score for every student\n",
    "processed_data['average score'] = (processed_data['math score']+processed_data['reading score']+processed_data['writing score'])//3\n",
    "\n",
    "#saving the new data\n",
    "processed_data.to_csv(r\"C:\\Users\\MANOJ\\OneDrive\\Documents\\pds-assignment 1\\StudentPerformance Workflow\\stage1_DP\\new_data.csv\", index=False)"
   ]
  },
  {
   "cell_type": "code",
   "execution_count": null,
   "id": "5f8a49e6",
   "metadata": {},
   "outputs": [],
   "source": []
  }
 ],
 "metadata": {
  "kernelspec": {
   "display_name": "Python 3 (ipykernel)",
   "language": "python",
   "name": "python3"
  },
  "language_info": {
   "codemirror_mode": {
    "name": "ipython",
    "version": 3
   },
   "file_extension": ".py",
   "mimetype": "text/x-python",
   "name": "python",
   "nbconvert_exporter": "python",
   "pygments_lexer": "ipython3",
   "version": "3.9.7"
  }
 },
 "nbformat": 4,
 "nbformat_minor": 5
}
