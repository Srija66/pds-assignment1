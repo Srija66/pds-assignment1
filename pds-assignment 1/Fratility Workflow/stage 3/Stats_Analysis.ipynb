{
 "cells": [
  {
   "cell_type": "code",
   "execution_count": 2,
   "id": "2f130eaf",
   "metadata": {},
   "outputs": [
    {
     "name": "stdout",
     "output_type": "stream",
     "text": [
      "                            OLS Regression Results                            \n",
      "==============================================================================\n",
      "Dep. Variable:      Grip strength_new   R-squared:                       0.018\n",
      "Model:                            OLS   Adj. R-squared:                 -0.105\n",
      "Method:                 Least Squares   F-statistic:                    0.1457\n",
      "Date:                Mon, 12 Feb 2024   Prob (F-statistic):              0.713\n",
      "Time:                        22:38:51   Log-Likelihood:                -20.755\n",
      "No. Observations:                  10   AIC:                             45.51\n",
      "Df Residuals:                       8   BIC:                             46.12\n",
      "Df Model:                           1                                         \n",
      "Covariance Type:            nonrobust                                         \n",
      "==============================================================================\n",
      "                 coef    std err          t      P>|t|      [0.025      0.975]\n",
      "------------------------------------------------------------------------------\n",
      "const         11.1001      1.940      5.722      0.000       6.627      15.573\n",
      "Age            0.0213      0.056      0.382      0.713      -0.108       0.150\n",
      "==============================================================================\n",
      "Omnibus:                        2.843   Durbin-Watson:                   0.941\n",
      "Prob(Omnibus):                  0.241   Jarque-Bera (JB):                0.998\n",
      "Skew:                          -0.206   Prob(JB):                        0.607\n",
      "Kurtosis:                       1.508   Cond. No.                         98.8\n",
      "==============================================================================\n",
      "\n",
      "Notes:\n",
      "[1] Standard Errors assume that the covariance matrix of the errors is correctly specified.\n"
     ]
    },
    {
     "name": "stderr",
     "output_type": "stream",
     "text": [
      "C:\\Users\\MANOJ\\anaconda3\\lib\\site-packages\\scipy\\stats\\_stats_py.py:1736: UserWarning: kurtosistest only valid for n>=20 ... continuing anyway, n=10\n",
      "  warnings.warn(\"kurtosistest only valid for n>=20 ... continuing \"\n"
     ]
    }
   ],
   "source": [
    "import pandas as pd\n",
    "import statsmodels.api as sm\n",
    "\n",
    "new_data = pd.read_csv(r\"C:\\Users\\MANOJ\\OneDrive\\Documents\\pds-assignment 1\\Fratility Workflow\\stage 1\\Processed_data.csv\")\n",
    "\n",
    "#performing linear regression\n",
    "X = new_data['Age']\n",
    "X = sm.add_constant(X)  \n",
    "y = new_data['Grip strength_new']\n",
    "\n",
    "model = sm.OLS(y, X)\n",
    "result=model.fit()\n",
    "print(result.summary())\n",
    "\n",
    "# writing to report file\n",
    "with open(r\"C:\\Users\\MANOJ\\OneDrive\\Documents\\pds-assignment 1\\Fratility Workflow\\stage 3\\Reports\\repo_analysis.txt\", 'w') as report:\n",
    "    report.write(str(result.summary()))"
   ]
  },
  {
   "cell_type": "code",
   "execution_count": null,
   "id": "4ca3bd5b",
   "metadata": {},
   "outputs": [],
   "source": []
  },
  {
   "cell_type": "code",
   "execution_count": null,
   "id": "b8bd4e4e",
   "metadata": {},
   "outputs": [],
   "source": []
  }
 ],
 "metadata": {
  "kernelspec": {
   "display_name": "Python 3 (ipykernel)",
   "language": "python",
   "name": "python3"
  },
  "language_info": {
   "codemirror_mode": {
    "name": "ipython",
    "version": 3
   },
   "file_extension": ".py",
   "mimetype": "text/x-python",
   "name": "python",
   "nbconvert_exporter": "python",
   "pygments_lexer": "ipython3",
   "version": "3.9.7"
  }
 },
 "nbformat": 4,
 "nbformat_minor": 5
}
